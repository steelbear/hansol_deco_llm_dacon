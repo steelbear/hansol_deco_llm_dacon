{
 "cells": [
  {
   "cell_type": "code",
   "execution_count": 2,
   "id": "ed49900c-cfb3-49ac-aec7-8eeb04604ede",
   "metadata": {},
   "outputs": [],
   "source": [
    "import torch\n",
    "from transformers import AutoModelForCausalLM, AutoTokenizer, GenerationConfig\n",
    "\n",
    "from string import Template"
   ]
  },
  {
   "cell_type": "code",
   "execution_count": 42,
   "id": "bfcf519f-a5d9-4489-94c0-0d14d801c9e1",
   "metadata": {},
   "outputs": [],
   "source": [
    "device = 'auto'\n",
    "LLM_model = 'SteelBear/open-solar-ko-hansol-16-8'\n",
    "\n",
    "gk_generation_config = GenerationConfig(\n",
    "    max_new_tokens=512,\n",
    "    do_sample=True,\n",
    "    repetition_penalty=1.1,\n",
    "    top_k=3,\n",
    "    temperature=0.95\n",
    "    )\n",
    "\n",
    "generation_config = GenerationConfig(\n",
    "    max_new_tokens=512,\n",
    "    do_sample=True,\n",
    "    num_beam=4,\n",
    "    repetition_penalty=1.2,\n",
    "    length_penalty=0.5,\n",
    "    )"
   ]
  },
  {
   "cell_type": "code",
   "execution_count": 4,
   "id": "961ab719-fca8-41d5-95da-dfe8b44cae27",
   "metadata": {},
   "outputs": [
    {
     "data": {
      "application/vnd.jupyter.widget-view+json": {
       "model_id": "c163481e3d4847d8809260e83d693cd0",
       "version_major": 2,
       "version_minor": 0
      },
      "text/plain": [
       "Loading checkpoint shards:   0%|          | 0/9 [00:00<?, ?it/s]"
      ]
     },
     "metadata": {},
     "output_type": "display_data"
    },
    {
     "name": "stderr",
     "output_type": "stream",
     "text": [
      "Special tokens have been added in the vocabulary, make sure the associated word embeddings are fine-tuned or trained.\n"
     ]
    }
   ],
   "source": [
    "model = AutoModelForCausalLM.from_pretrained(\n",
    "    LLM_model,\n",
    "    load_in_8bit=True,\n",
    "    torch_dtype=torch.float16,\n",
    "    device_map=device)\n",
    "\n",
    "tokenizer = AutoTokenizer.from_pretrained(LLM_model)"
   ]
  },
  {
   "cell_type": "code",
   "execution_count": 34,
   "id": "6a702cce-dac8-4fb4-beac-3dbe37a73163",
   "metadata": {},
   "outputs": [],
   "source": [
    "def generate(model, generation_config, template, split_token, **inputs_dict):\n",
    "    prompt = template.substitute(inputs_dict)\n",
    "    inputs = tokenizer.encode(prompt, return_tensors=\"pt\").to(\"cuda\")\n",
    "\n",
    "    outputs = model.generate(inputs, generation_config=generation_config)\n",
    "    output_text = tokenizer.batch_decode(outputs)[0]\n",
    "    output_text = output_text.split(split_token)[-1]\n",
    "    output_text = output_text.replace(\"</s>\", \"\")\n",
    "\n",
    "    return output_text"
   ]
  },
  {
   "cell_type": "code",
   "execution_count": 6,
   "id": "194ed356-47cb-4551-94a3-4700f67b27fd",
   "metadata": {},
   "outputs": [],
   "source": [
    "def analysis_question(user_input, generation_config):\n",
    "    template = Template(\n",
    "\"\"\"In User's input, list what the User's questions are in the form of a list in Korean. For example,\n",
    "Input: \n",
    "방청 페인트의 종류에는 어떤 것들이 있는지 알고 계신가요? 또한, 원목사이딩을 사용하는 것에 어떤 단점이 있을까요?\n",
    "Output:\n",
    "1. 방청 페인트의 종류에는 어떤 것들이 있는지 알고 계신가요?\n",
    "2. 원목사이딩을 사용하는 것에 어떤 단점이 있을까요?\n",
    "\n",
    "Input:\n",
    "철골구조를 사용하는 고층 건물에서, 단열 효과를 높이기 위한 시공 방법은 무엇이 있을까요?\n",
    "Output:\n",
    "1. 철골구조를 사용하는 고층 건물에서, 단열 효과를 높이기 위한 시공 방법은 무엇이 있을까요?\n",
    "\n",
    "Input:\n",
    "{user}\n",
    "Output:\n",
    "1. \"\"\")\n",
    "    split_token = \"Output:\\n\"\n",
    "\n",
    "    output = generate(model, generation_config, template, split_token, user=user_input)\n",
    "    question_list = output.split('\\n')\n",
    "\n",
    "    return question_list"
   ]
  },
  {
   "cell_type": "code",
   "execution_count": 7,
   "id": "263329bf-d0ca-41e3-b414-653032191f70",
   "metadata": {},
   "outputs": [],
   "source": [
    "def question_answer(user_input, collection):\n",
    "    results = collection.query(\n",
    "        query_texts=[user_input],\n",
    "        n_results=3\n",
    "    )\n",
    "\n",
    "    return results['documents'][0]"
   ]
  },
  {
   "cell_type": "code",
   "execution_count": 28,
   "id": "14dd534e-fb6b-43c3-9084-4e5d38fd481c",
   "metadata": {},
   "outputs": [],
   "source": [
    "def summarization(user_input, knowledge_list, generation_config):\n",
    "    template = Template(\n",
    "\"\"\"Answer the user's questions in as much detail as possible. Make sure to write your answers based on the sub-question given and the relevant knowledge.\n",
    "\n",
    "${knowledges}\n",
    "\n",
    "Question:\n",
    "${user}\n",
    "Answer:\n",
    "\"\"\"\n",
    "    )\n",
    "    split_token = \"Answer:\\n\"\n",
    "\n",
    "    knowledges = '\\n\\n'.join(knowledge_list)\n",
    "\n",
    "    output = generate(model, generation_config, template, split_token, user=user_input, knowledges=knowledges)\n",
    "\n",
    "    return output"
   ]
  },
  {
   "cell_type": "code",
   "execution_count": 9,
   "id": "f77e0689-5220-4a2f-856c-b0af62190a6d",
   "metadata": {},
   "outputs": [],
   "source": [
    "import chromadb\n",
    "from chromadb.utils import embedding_functions"
   ]
  },
  {
   "cell_type": "code",
   "execution_count": 11,
   "id": "cabd9c11-1273-464d-829a-39be631b3de0",
   "metadata": {},
   "outputs": [],
   "source": [
    "ef_model_name = 'distiluse-base-multilingual-cased-v1'\n",
    "\n",
    "client = chromadb.PersistentClient(path='./vectordb')\n",
    "sentence_transformer_ef = embedding_functions.SentenceTransformerEmbeddingFunction(model_name=ef_model_name)\n",
    "collection = client.get_collection(name='hansol', embedding_function=sentence_transformer_ef)"
   ]
  },
  {
   "cell_type": "code",
   "execution_count": 12,
   "id": "93cd02d5-7fbd-4b87-a6f4-d8c8b027e289",
   "metadata": {},
   "outputs": [
    {
     "name": "stdout",
     "output_type": "stream",
     "text": [
      "length of tokenizer: 46592\n"
     ]
    }
   ],
   "source": [
    "bos = tokenizer.bos_token_id\n",
    "eos = tokenizer.eos_token_id\n",
    "pad = tokenizer.pad_token_id\n",
    "tokenizer.padding_side = \"right\"\n",
    "\n",
    "if pad == None or pad == eos:\n",
    "    tokenizer.pad_token_id = 0\n",
    "print(\"length of tokenizer:\", len(tokenizer))\n",
    "\n",
    "generation_config.bos_token_id = tokenizer.bos_token_id\n",
    "generation_config.eos_token_id = tokenizer.eos_token_id\n",
    "generation_config.pad_token_id = tokenizer.pad_token_id"
   ]
  },
  {
   "cell_type": "code",
   "execution_count": 14,
   "id": "e338ada2-daff-4d27-afdf-e2bc5d7eff36",
   "metadata": {},
   "outputs": [
    {
     "data": {
      "text/plain": [
       "['방청 페인트의 기능은 철재 부식 방지, 철과 페인트의 접착력 증대, 철근의 방청도료 재도장이 있습니다.\\n방청 페인트는 여러 가지 기능을 가지고 있습니다. 이 중 주요 기능으로는 철재의 부식을 방지하는 역할, 페인트와 철의 접착력을 높여주는 역할, 그리고 철근 등의 방청도료 재도장이 있습니다. 이러한 기능들이 방청 페인트를 사용하는 이유 중 일부입니다.\\n방청 페인트의 기능에는 여러 가지가 있지만, 주요 기능으로는 철재의 부식을 방지하는 역할, 철과 페인트의 접착력을 높여주는 역할, 그리고 철근의 방청도료 재도장 기능이 있습니다. 이러한 기능들을 통해 방청 페인트는 건물의 구조물을 보호하고 유지보수에 도움을 주는 역할을 합니다.\\n방청 페인트는 여러 가지 기능을 갖고 있습니다. 그 중 주요 기능으로는 철재의 부식을 방지하는 역할과 철과 페인트의 접착력을 향상시켜주는 역할, 그리고 철근에 방청도료를 재도장하여 부식을 방지하는 역할이 있습니다.\\n방청 페인트는 여러 가지 기능을 갖고 있습니다. 이 중에서 가장 중요한 것은 철재의 부식을 방지하는 역할입니다. 또한, 페인트와 철과의 접착력을 향상시켜주며, 철근의 방청도료를 재도장하는 기능도 가지고 있습니다. 따라서 방청 페인트는 건물이나 다른 구조물의 내구성을 높이는 데 기여합니다.',\n",
       " '페인트 중도재는 말그대로 하도재와 상도재 중간에 칠하는 재료를 의미합니다\\n페인트 중도재란 하도재와 상도재 사이에 칠하는 페인트를 의미합니다.  이는 재료를 완전히 바꾸지 않고 색을 조절하거나 도료나 액체 성분을 섞어서 사용할 때 주로 쓰입니다. 이러한 중도재를 사용하면 원하는 색조합을 편리하게 만들 수 있습니다.\\n페인트 중도재는 하도재와 상도재 사이에 칠하는 재료를 말합니다. 이러한 중도재는 하도재의 방수성과 상도재의 먼지 및 오염물질 저지 등의 기능을 함께 가지고 있어, 페인트의 내구성을 향상시키는 역할을 합니다. 이는 페인트의 내구성과 보수 주기를 연장시키는 데 도움을 줄 수 있습니다.\\n페인트 중도재는 하도재와 상도재의 중간에 사용되는 페인트 재료를 말합니다. 세라믹, 유리섬유 등의 성분을 함유하고 있어 페인트의 특성을 결정짓는 요소로, 표면의 경도와 강인함을 높여주는 역할을 합니다. 이로써 색상의 밝기와 선명도를 유지하는 데 도움을 줍니다.\\n페인트 중도재는 하도재와 상도재 중간에 칠하는 재료로, 하도재가 건조하기 전에 중도재를 바를 수 있는 특수 페인트입니다. 이러한 과정을 통해, 중도재는 페인트 층이 균일하게 고르게 발라지도록 도와줍니다. 이는 마감 과정에서 부드럽고 효과적인 외관을 유지하기 위해 중요합니다.',\n",
       " '페인트 처리방법은 남은 페인트의 양에 따라 달라집니다. 만약, 남은 페인트의 양이 적다면 신문이나 헌 옷에 적신 다음 종량제 봉투에 버리는 것이 가능합니다. 남은 페인트 양이 6ml이상 100kg 미만일 경우 페기물 수탁업체를 통해 처리해야 하며, 100kg 이상이라면 구청 환경과에 신고해야 합니다. 신고시 준비해야할 서류는 폐기물처리계획서, 폐기물분석결과서,폐기물수탁확인서 각 1통입니다.\\n페인트 처리방법은 남은 페인트의 양에 따라 다릅니다. 작은 양의 경우, 신문 또는 헌 옷에 적셔서 종량제 봉투에 버리는 것이 가능합니다. 6ml 이상 100kg 미만의 양은 폐기물 수탁업체를 통해 처리해야 하고, 100kg 이상일 경우 구청 환경과에 신고해야 합니다. 이때 필요한 서류는 폐기물 처리계획서, 폐기물 분석 결과서, 폐기물 수탁 확인서 각 1통입니다.\\n페인트를 처리하는 방법은 남은 페인트의 양에 따라 다릅니다. 남은 페인트 양이 적다면, 신문이나 폐 옷에 적신 후 종량제 봉투에 버릴 수 있습니다. 그러나 6밀리리터 이상 100킬로그램 미만이라면 폐기물 수수료업체를 통해 처리해야 하고, 100킬로그램 이상이라면 지방 환경청에 신고해야 합니다. 이때 필요한 서류는 폐기물 처리 계획서, 폐기물 분석 결과서, 폐기물 수수료 확인서 각 한 통입니다.\\n페인트 처리방법은 남은 페인트의 양에 따라 다릅니다. 만약, 남은 페인트의 양이 적다면 신문이나 헌 옷에 적신 다음 종량제 봉투에 버리는 것이 가능합니다. 남은 페인트 양이 6ml이상 100kg 미만일 경우 페기물 수탁업체를 통해 처리해야 하며, 100kg 이상이라면 구청 환경과에 신고해야 합니다. 신고시 준비해야할 서류는 폐기물처리계획서, 폐기물분석결과서,폐기물수탁확인서 각 1통입니다. 만약 페인트가 재사용 가능한 양이라면 깨끗한 컨테이너에 담아서 보관하고, 장기간 보관 시에는 상판에 날짜와 페인트 종류를 표시하여 보관하는 것이 좋습니다.\\n페인트 처리방법은 남은 페인트의 양에 따라 달라집니다. 만약, 남은 페인트의 양이 적다면 신문이나 헌 옷에 적신 다음 종량제 봉투에 버리는 것이 가능합니다. 페인트 양이 6ml이상 100kg 미만일 경우, 페기물 수탁업체를 통해 처리해야 하며, 100kg 이상이면 구청 환경과에 신고해야 합니다. 이때, 필요한 서류로는 폐기물처리계획서, 폐기물분석결과서, 폐기물수탁확인서가 각 1통 준비되어야 합니다.']"
      ]
     },
     "execution_count": 14,
     "metadata": {},
     "output_type": "execute_result"
    }
   ],
   "source": [
    "user_input = '방청 페인트의 종류에는 어떤 것들이 있는지 알고 계신가요? 또한, 원목사이딩을 사용하는 것에 어떤 단점이 있을까요?'\n",
    "knowledges = question_answer(user_input, collection)\n",
    "knowledges"
   ]
  },
  {
   "cell_type": "code",
   "execution_count": 43,
   "id": "34c898d9-35b6-48e4-bc02-d3ff335f272e",
   "metadata": {},
   "outputs": [
    {
     "data": {
      "text/plain": [
       "'방청 페인트에는 일반적으로 전성분(Full Conron) 방청 페인트와 속건형 방청 페인트 두 가지 유형이 있습니다. 전성분 방청페인트는 매우 높은 부착력과 지속력이 특징이며, 모든 재료에 적합하다는 장점을 보유하고 있습니다. 하지만 강한 냄새만큼 속건형 타입보다는 조금 더 느린 시간 (보통은 3~7일 정도는 소요됩니다.)이 필요하며 완벽한 마무리를 위해서는 몇 번의 층을 덧발라지야 할 수도 있을 것 같습니다.'"
      ]
     },
     "execution_count": 43,
     "metadata": {},
     "output_type": "execute_result"
    }
   ],
   "source": [
    "summarization(user_input, knowledges, generation_config)"
   ]
  },
  {
   "cell_type": "code",
   "execution_count": null,
   "id": "78e8d4a3-92bf-46b9-af18-ddb6533ce689",
   "metadata": {},
   "outputs": [],
   "source": []
  }
 ],
 "metadata": {
  "kernelspec": {
   "display_name": "Python 3 (ipykernel)",
   "language": "python",
   "name": "python3"
  },
  "language_info": {
   "codemirror_mode": {
    "name": "ipython",
    "version": 3
   },
   "file_extension": ".py",
   "mimetype": "text/x-python",
   "name": "python",
   "nbconvert_exporter": "python",
   "pygments_lexer": "ipython3",
   "version": "3.10.13"
  }
 },
 "nbformat": 4,
 "nbformat_minor": 5
}
