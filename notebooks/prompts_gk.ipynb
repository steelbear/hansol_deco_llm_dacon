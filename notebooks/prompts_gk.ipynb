{
 "cells": [
  {
   "cell_type": "code",
   "execution_count": 2,
   "id": "ed49900c-cfb3-49ac-aec7-8eeb04604ede",
   "metadata": {},
   "outputs": [],
   "source": [
    "import torch\n",
    "from transformers import AutoModelForCausalLM, AutoTokenizer, GenerationConfig\n",
    "\n",
    "from string import Template"
   ]
  },
  {
   "cell_type": "code",
   "execution_count": 3,
   "id": "bfcf519f-a5d9-4489-94c0-0d14d801c9e1",
   "metadata": {},
   "outputs": [],
   "source": [
    "device = 'auto'\n",
    "LLM_model = 'beomi/llama-2-koen-13b'\n",
    "\n",
    "gk_prompt_template = Template(\n",
    "    \"\"\"${system}\n",
    "\n",
    "${examples}\n",
    "\n",
    "Input: ${user}\n",
    "Knowledge: \n",
    "1) \"\"\")\n",
    "\n",
    "gk_system_input = \"Generate some interior knowledge about the input. For example,\"\n",
    "gk_examples = \"\"\"Input: 철골구조의 단점이 뭐야?\n",
    "Knowledge: \n",
    "1) 철골구조는 화재 발생시 철골이 녹아 건물의 붕괴로 이어질 수 있다.\n",
    "2) 철골 자체가 비교적 비싼 재료다.\n",
    "3) 철골구조는 부식에 따른 유지보수가 필요하다.\n",
    "\n",
    "Input: 철골철근 콘크리트 구조가 뭐야?\n",
    "Knowledge: \n",
    "1) 철골철근 콘크리트 구조는 강철 골조와 강철 철근, 그리고 콘크리트를 함께 사용하여 건축물을 구성하는 구조체다.\n",
    "2) 철골철근 콘크리트 구조는 철골의 강도와 내구성, 철근의 인장력, 그리고 콘크리트의 압축력을 조합하여 건축물에 대한 강성과 내구성을 향상시킨다.\n",
    "3) 철골철근콘크리트는 철골과 철근콘크리트의 장점을 결합하여 안정성을 높이고 건물을 지탱하는 구조다.\"\"\"\n",
    "\n",
    "prompt_template = Template(\n",
    "    \"\"\"${system}\n",
    "\n",
    "${examples}\n",
    "\n",
    "Input: ${user}\n",
    "Knowledge: ${knowledge}\n",
    "Output: \"\"\"\n",
    ")\n",
    "\n",
    "system_input = \"\"\"Using the given knowledge, create a response to the input following these options:\n",
    "- Your answer have more than 5 sentences.\n",
    "- You must write the answer in Korean.\n",
    "- Your first sentence should briefly introduce what you're about to describe.\n",
    "- If multiple concepts appear, you should explain them one by one.\n",
    "- Your answer should be detailed enough to be easy to understand.\n",
    "- Summarize the entirety of your answer with a final sentence.\n",
    "\n",
    "For example:\"\"\"\n",
    "\n",
    "examples = \"\"\"Input: 면진 구조와 제진 구조의 차이점이 뭐야?\n",
    "Knowledge: 면진구조는 지진력이 구조물에 상대적으로 약하게 전달되도록 수평방향으로 유연한 장치를 이용하여 지면과 건물을 분리시킴으로 건물에 전달되는 지진의 영향을 최소화하는 구조다. 제진구조는 지진발생 시 구조물로 전달된 지진력을 건물 내외부에 특수한 장치(탬퍼 등)을 설치하여 지진에 대한 구조물의 응답을 제어하는 구조를 말한다.\n",
    "Output: 면진구조와 제진구조는 지진으로 인한 진동을 줄이는 데 사용되는 두 가지 다른 방법입니다. 면진구조는 건물과 지반 사이에 일정한 간격을 두어 지진으로 인한 진동을 완화시키는 방법입니다. 이 간격은 지진 발생 시 건물과 지반 사이의 진동을 흡수하여 건물에 전달되는 충격을 줄입니다. 반면에 제진구조는 건물 내부에서 진동을 제어하는 방법입니다. 제진장치는 건물 내부에 설치되어 지진으로 인한 진동을 감소시킵니다. 제진장치는 일반적으로 탬퍼처럼 내외부에 설치된 특수한 장치를 사용하여 건물의 진동을 제어하고, 에너지 소산을 통해 진동을 줄입니다. 요약하자면, 면진구조는 건물과 지반 사이의 간격을 두어 진동을 완화시키는 방법이고, 제진구조는 건물 내부에서 진동을 제어하는 방법입니다.\"\"\"\n",
    "\n",
    "gk_generation_config = GenerationConfig(\n",
    "    max_new_tokens=512,\n",
    "    do_sample=True,\n",
    "    repetition_penalty=1.1,\n",
    "    top_k=3,\n",
    "    temperature=0.95\n",
    "    )\n",
    "\n",
    "generation_config = GenerationConfig(\n",
    "    max_new_tokens=512,\n",
    "    do_sample=True,\n",
    "    repetition_penalty=1.2,\n",
    "    temperature=0.98,\n",
    "    )"
   ]
  },
  {
   "cell_type": "code",
   "execution_count": 4,
   "id": "961ab719-fca8-41d5-95da-dfe8b44cae27",
   "metadata": {},
   "outputs": [
    {
     "data": {
      "application/vnd.jupyter.widget-view+json": {
       "model_id": "6d902689546e428eac384f3032427100",
       "version_major": 2,
       "version_minor": 0
      },
      "text/plain": [
       "config.json:   0%|          | 0.00/604 [00:00<?, ?B/s]"
      ]
     },
     "metadata": {},
     "output_type": "display_data"
    },
    {
     "data": {
      "application/vnd.jupyter.widget-view+json": {
       "model_id": "4603949fe0004837825734c9f2142f39",
       "version_major": 2,
       "version_minor": 0
      },
      "text/plain": [
       "model.safetensors.index.json:   0%|          | 0.00/29.9k [00:00<?, ?B/s]"
      ]
     },
     "metadata": {},
     "output_type": "display_data"
    },
    {
     "data": {
      "application/vnd.jupyter.widget-view+json": {
       "model_id": "454c27bbb72e4e53938ab85c3c17c007",
       "version_major": 2,
       "version_minor": 0
      },
      "text/plain": [
       "Downloading shards:   0%|          | 0/10 [00:00<?, ?it/s]"
      ]
     },
     "metadata": {},
     "output_type": "display_data"
    },
    {
     "data": {
      "application/vnd.jupyter.widget-view+json": {
       "model_id": "cfa570f91c184fb6b744af97d71507bd",
       "version_major": 2,
       "version_minor": 0
      },
      "text/plain": [
       "model-00001-of-00010.safetensors:   0%|          | 0.00/2.87G [00:00<?, ?B/s]"
      ]
     },
     "metadata": {},
     "output_type": "display_data"
    },
    {
     "data": {
      "application/vnd.jupyter.widget-view+json": {
       "model_id": "1ca144d282c04ae490d4644b3ac31c71",
       "version_major": 2,
       "version_minor": 0
      },
      "text/plain": [
       "model-00002-of-00010.safetensors:   0%|          | 0.00/2.89G [00:00<?, ?B/s]"
      ]
     },
     "metadata": {},
     "output_type": "display_data"
    },
    {
     "data": {
      "application/vnd.jupyter.widget-view+json": {
       "model_id": "7ad18cd1ac07439e876bdcb7300108f1",
       "version_major": 2,
       "version_minor": 0
      },
      "text/plain": [
       "model-00003-of-00010.safetensors:   0%|          | 0.00/2.96G [00:00<?, ?B/s]"
      ]
     },
     "metadata": {},
     "output_type": "display_data"
    },
    {
     "data": {
      "application/vnd.jupyter.widget-view+json": {
       "model_id": "3da31d962a44470eb1df0ad7f4312b99",
       "version_major": 2,
       "version_minor": 0
      },
      "text/plain": [
       "model-00004-of-00010.safetensors:   0%|          | 0.00/2.89G [00:00<?, ?B/s]"
      ]
     },
     "metadata": {},
     "output_type": "display_data"
    },
    {
     "data": {
      "application/vnd.jupyter.widget-view+json": {
       "model_id": "289cb2d80fa943cca9b60c3a2055acaa",
       "version_major": 2,
       "version_minor": 0
      },
      "text/plain": [
       "model-00005-of-00010.safetensors:   0%|          | 0.00/2.98G [00:00<?, ?B/s]"
      ]
     },
     "metadata": {},
     "output_type": "display_data"
    },
    {
     "data": {
      "application/vnd.jupyter.widget-view+json": {
       "model_id": "401028a116434825885825c15af7b224",
       "version_major": 2,
       "version_minor": 0
      },
      "text/plain": [
       "model-00006-of-00010.safetensors:   0%|          | 0.00/2.87G [00:00<?, ?B/s]"
      ]
     },
     "metadata": {},
     "output_type": "display_data"
    },
    {
     "data": {
      "application/vnd.jupyter.widget-view+json": {
       "model_id": "3dad654243b347c9bcf6ae5d85193a8d",
       "version_major": 2,
       "version_minor": 0
      },
      "text/plain": [
       "model-00007-of-00010.safetensors:   0%|          | 0.00/2.89G [00:00<?, ?B/s]"
      ]
     },
     "metadata": {},
     "output_type": "display_data"
    },
    {
     "data": {
      "application/vnd.jupyter.widget-view+json": {
       "model_id": "b1d7ffb601ba45b28638e5ec0b31c258",
       "version_major": 2,
       "version_minor": 0
      },
      "text/plain": [
       "model-00008-of-00010.safetensors:   0%|          | 0.00/2.96G [00:00<?, ?B/s]"
      ]
     },
     "metadata": {},
     "output_type": "display_data"
    },
    {
     "data": {
      "application/vnd.jupyter.widget-view+json": {
       "model_id": "3d8b112d36594f40837fa3f7995a7439",
       "version_major": 2,
       "version_minor": 0
      },
      "text/plain": [
       "model-00009-of-00010.safetensors:   0%|          | 0.00/2.54G [00:00<?, ?B/s]"
      ]
     },
     "metadata": {},
     "output_type": "display_data"
    },
    {
     "data": {
      "application/vnd.jupyter.widget-view+json": {
       "model_id": "d05d91ebb03e425f8826df61f3bb1407",
       "version_major": 2,
       "version_minor": 0
      },
      "text/plain": [
       "model-00010-of-00010.safetensors:   0%|          | 0.00/474M [00:00<?, ?B/s]"
      ]
     },
     "metadata": {},
     "output_type": "display_data"
    },
    {
     "data": {
      "application/vnd.jupyter.widget-view+json": {
       "model_id": "2c51f7bea9d449488ef4f968ce12ec9c",
       "version_major": 2,
       "version_minor": 0
      },
      "text/plain": [
       "Loading checkpoint shards:   0%|          | 0/10 [00:00<?, ?it/s]"
      ]
     },
     "metadata": {},
     "output_type": "display_data"
    },
    {
     "data": {
      "application/vnd.jupyter.widget-view+json": {
       "model_id": "3dccfd56d2e8458abf43af8f94c1dd30",
       "version_major": 2,
       "version_minor": 0
      },
      "text/plain": [
       "generation_config.json:   0%|          | 0.00/132 [00:00<?, ?B/s]"
      ]
     },
     "metadata": {},
     "output_type": "display_data"
    },
    {
     "data": {
      "application/vnd.jupyter.widget-view+json": {
       "model_id": "20def27f920248d89ce440d11458fa34",
       "version_major": 2,
       "version_minor": 0
      },
      "text/plain": [
       "tokenizer_config.json:   0%|          | 0.00/1.71k [00:00<?, ?B/s]"
      ]
     },
     "metadata": {},
     "output_type": "display_data"
    },
    {
     "data": {
      "application/vnd.jupyter.widget-view+json": {
       "model_id": "3e6e9f59ef9b46b4a6c0680b3f1afcf1",
       "version_major": 2,
       "version_minor": 0
      },
      "text/plain": [
       "tokenizer.json:   0%|          | 0.00/2.55M [00:00<?, ?B/s]"
      ]
     },
     "metadata": {},
     "output_type": "display_data"
    },
    {
     "data": {
      "application/vnd.jupyter.widget-view+json": {
       "model_id": "562ffbaafb6d4076a04f3fff292a3942",
       "version_major": 2,
       "version_minor": 0
      },
      "text/plain": [
       "special_tokens_map.json:   0%|          | 0.00/551 [00:00<?, ?B/s]"
      ]
     },
     "metadata": {},
     "output_type": "display_data"
    }
   ],
   "source": [
    "model = AutoModelForCausalLM.from_pretrained(\n",
    "    LLM_model,\n",
    "    load_in_8bit=True,\n",
    "    torch_dtype=torch.float16,\n",
    "    device_map=device)\n",
    "\n",
    "tokenizer = AutoTokenizer.from_pretrained(LLM_model)"
   ]
  },
  {
   "cell_type": "code",
   "execution_count": 5,
   "id": "341fffda-13a0-4a29-9c94-007eb958495a",
   "metadata": {},
   "outputs": [],
   "source": [
    "def generated_knowledge(user_input, generation_config):\n",
    "    gk_prompt = gk_prompt_template.substitute(system=gk_system_input, examples=gk_examples, user=user_input)\n",
    "    inputs = tokenizer.encode(gk_prompt, return_tensors=\"pt\").to('cuda')\n",
    "\n",
    "    outputs = model.generate(inputs, generation_config=generation_config)\n",
    "    output_text = tokenizer.batch_decode(outputs)[0]\n",
    "    print(\"### Generated Knowledge ###\")\n",
    "    print(output_text)\n",
    "    print(\"### Generated Knowledge ###\\n\\n\")\n",
    "\n",
    "    output_text = output_text.split(\"Knowledge: \\n\")[3]\n",
    "    #output_text = output_text.split(\"\\n\")[0]\n",
    "    output_text = output_text.replace(\"</s>\", \"\")\n",
    "    return output_text"
   ]
  },
  {
   "cell_type": "code",
   "execution_count": 6,
   "id": "c5330f9d-d7b9-46d7-8998-9a4bed301f65",
   "metadata": {},
   "outputs": [
    {
     "name": "stdout",
     "output_type": "stream",
     "text": [
      "### Generated Knowledge ###\n",
      "<s> Generate some interior knowledge about the input. For example,\n",
      "\n",
      "Input: 철골구조의 단점이 뭐야?\n",
      "Knowledge: \n",
      "1) 철골구조는 화재 발생시 철골이 녹아 건물의 붕괴로 이어질 수 있다.\n",
      "2) 철골 자체가 비교적 비싼 재료다.\n",
      "3) 철골구조는 부식에 따른 유지보수가 필요하다.\n",
      "\n",
      "Input: 철골철근 콘크리트 구조가 뭐야?\n",
      "Knowledge: \n",
      "1) 철골철근 콘크리트 구조는 강철 골조와 강철 철근, 그리고 콘크리트를 함께 사용하여 건축물을 구성하는 구조체다.\n",
      "2) 철골철근 콘크리트 구조는 철골의 강도와 내구성, 철근의 인장력, 그리고 콘크리트의 압축력을 조합하여 건축물에 대한 강성과 내구성을 향상시킨다.\n",
      "3) 철골철근콘크리트는 철골과 철근콘크리트의 장점을 결합하여 안정성을 높이고 건물을 지탱하는 구조다.\n",
      "\n",
      "Input: 면진장치에 사용되는 주요 기술은 무엇인가요?\n",
      "Knowledge: \n",
      "1) 댐퍼(damper): 지진으로 인해 발생하는 진동을 흡수하는 기기이다.\n",
      "2) 제진장치(Seismic isolation system): 지진으로 인한 진동이 건물에 직접적으로 전달되지 않도록 차단하는 장치이다.\n",
      "3) 에너지 소산장치(Energy dissipator): 지진에 의해 발생하는 에너지를 소산시키는 기기이다.</s>\n",
      "### Generated Knowledge ###\n",
      "\n",
      "\n"
     ]
    }
   ],
   "source": [
    "gk_result = generated_knowledge(\"면진장치에 사용되는 주요 기술은 무엇인가요?\", gk_generation_config)"
   ]
  },
  {
   "cell_type": "code",
   "execution_count": 7,
   "id": "54884ec7-405e-4bfe-8475-5c431ac33387",
   "metadata": {},
   "outputs": [],
   "source": [
    "def question_answer(user_input, gk_generation_config, generation_config):\n",
    "    gk_result = generated_knowledge(user_input, gk_generation_config)\n",
    "\n",
    "    prompt = prompt_template.substitute(system=system_input, examples=examples, user=user_input, knowledge=gk_result)\n",
    "    inputs = tokenizer.encode(prompt, return_tensors=\"pt\").to('cuda')\n",
    "\n",
    "    outputs = model.generate(inputs, generation_config=generation_config)\n",
    "    output_text = tokenizer.batch_decode(outputs)[0]\n",
    "    print(\"### Question Answering ###\")\n",
    "    print(output_text)\n",
    "    print(\"### Question Answering ###\\n\\n\")\n",
    "\n",
    "    output_text = output_text.split(\"Output: \")[2]\n",
    "    output_text = output_text.replace(\"</s>\", \"\")\n",
    "\n",
    "    return output_text"
   ]
  },
  {
   "cell_type": "code",
   "execution_count": 8,
   "id": "8ed05e01-ef19-4195-9528-0963bb0aea74",
   "metadata": {},
   "outputs": [
    {
     "name": "stdout",
     "output_type": "stream",
     "text": [
      "### Generated Knowledge ###\n",
      "<s> Generate some interior knowledge about the input. For example,\n",
      "\n",
      "Input: 철골구조의 단점이 뭐야?\n",
      "Knowledge: \n",
      "1) 철골구조는 화재 발생시 철골이 녹아 건물의 붕괴로 이어질 수 있다.\n",
      "2) 철골 자체가 비교적 비싼 재료다.\n",
      "3) 철골구조는 부식에 따른 유지보수가 필요하다.\n",
      "\n",
      "Input: 철골철근 콘크리트 구조가 뭐야?\n",
      "Knowledge: \n",
      "1) 철골철근 콘크리트 구조는 강철 골조와 강철 철근, 그리고 콘크리트를 함께 사용하여 건축물을 구성하는 구조체다.\n",
      "2) 철골철근 콘크리트 구조는 철골의 강도와 내구성, 철근의 인장력, 그리고 콘크리트의 압축력을 조합하여 건축물에 대한 강성과 내구성을 향상시킨다.\n",
      "3) 철골철근콘크리트는 철골과 철근콘크리트의 장점을 결합하여 안정성을 높이고 건물을 지탱하는 구조다.\n",
      "\n",
      "Input: 면진장치에 사용되는 주요 기술은 무엇인가요?\n",
      "Knowledge: \n",
      "1) 댐퍼(Damper)는 지진에 의한 진동이 구조물이나 기계에 가해졌을 때 그 진동을 흡수하거나 감쇠시키는 기계장치다.\n",
      "2) 댐핑(Damping)이란 에너지의 일부가 열에너지로 변환되는 현상을 말한다. \n",
      "3) 면진장치는 지진으로 인한 건물의 피해를 최소화하기 위한 장치다.</s>\n",
      "### Generated Knowledge ###\n",
      "\n",
      "\n",
      "### Question Answering ###\n",
      "<s> Using the given knowledge, create a response to the input following these options:\n",
      "- Your answer have more than 5 sentences.\n",
      "- You must write the answer in Korean.\n",
      "- Your first sentence should briefly introduce what you're about to describe.\n",
      "- If multiple concepts appear, you should explain them one by one.\n",
      "- Your answer should be detailed enough to be easy to understand.\n",
      "- Summarize the entirety of your answer with a final sentence.\n",
      "\n",
      "For example:\n",
      "\n",
      "Input: 면진 구조와 제진 구조의 차이점이 뭐야?\n",
      "Knowledge: 면진구조는 지진력이 구조물에 상대적으로 약하게 전달되도록 수평방향으로 유연한 장치를 이용하여 지면과 건물을 분리시킴으로 건물에 전달되는 지진의 영향을 최소화하는 구조다. 제진구조는 지진발생 시 구조물로 전달된 지진력을 건물 내외부에 특수한 장치(탬퍼 등)을 설치하여 지진에 대한 구조물의 응답을 제어하는 구조를 말한다.\n",
      "Output: 면진구조와 제진구조는 지진으로 인한 진동을 줄이는 데 사용되는 두 가지 다른 방법입니다. 면진구조는 건물과 지반 사이에 일정한 간격을 두어 지진으로 인한 진동을 완화시키는 방법입니다. 이 간격은 지진 발생 시 건물과 지반 사이의 진동을 흡수하여 건물에 전달되는 충격을 줄입니다. 반면에 제진구조는 건물 내부에서 진동을 제어하는 방법입니다. 제진장치는 건물 내부에 설치되어 지진으로 인한 진동을 감소시킵니다. 제진장치는 일반적으로 탬퍼처럼 내외부에 설치된 특수한 장치를 사용하여 건물의 진동을 제어하고, 에너지 소산을 통해 진동을 줄입니다. 요약하자면, 면진구조는 건물과 지반 사이의 간격을 두어 진동을 완화시키는 방법이고, 제진구조는 건물 내부에서 진동을 제어하는 방법입니다.\n",
      "\n",
      "Input: 면진장치에 사용되는 주요 기술은 무엇인가요?\n",
      "Knowledge: 1) 댐퍼(Damper)는 지진에 의한 진동이 구조물이나 기계에 가해졌을 때 그 진동을 흡수하거나 감쇠시키는 기계장치다.\n",
      "2) 댐핑(Damping)이란 에너지의 일부가 열에너지로 변환되는 현상을 말한다. \n",
      "3) 면진장치는 지진으로 인한 건물의 피해를 최소화하기 위한 장치다.\n",
      "Output: 댐퍼와 진동의 감쇠가 중요한 역할을 합니다. 먼저 지진이 발생할 경우 진동 에너지가 방출될 것이고, 방출된 진동에너지를 댐퍼 및 진동 감쇠를 사용하는 것이 중요합니다.'\n",
      "4) 상수관음분리형댐퍼는 일반적으로 중력식댐퍼나 탄성지지댐퍼 등이 있고, 6~9% 정도의 에너지 절약 효과가 있을 것이다. 또한 저감률이 높은 경우 층고 낮춤 효과도 있다.\n",
      "제진장치의 종류에는 압전소자를 이용하는 것, 유체를 이용한 댐핑매커니즘이 있는 것이 있습니다. 또한, 자기장을 이용해 마찰열에 의해 감쇠시키면서 하중하에서의 진폭을 낮추게 하는 것입니다.</s>\n",
      "### Question Answering ###\n",
      "\n",
      "\n"
     ]
    },
    {
     "data": {
      "text/plain": [
       "\"댐퍼와 진동의 감쇠가 중요한 역할을 합니다. 먼저 지진이 발생할 경우 진동 에너지가 방출될 것이고, 방출된 진동에너지를 댐퍼 및 진동 감쇠를 사용하는 것이 중요합니다.'\\n4) 상수관음분리형댐퍼는 일반적으로 중력식댐퍼나 탄성지지댐퍼 등이 있고, 6~9% 정도의 에너지 절약 효과가 있을 것이다. 또한 저감률이 높은 경우 층고 낮춤 효과도 있다.\\n제진장치의 종류에는 압전소자를 이용하는 것, 유체를 이용한 댐핑매커니즘이 있는 것이 있습니다. 또한, 자기장을 이용해 마찰열에 의해 감쇠시키면서 하중하에서의 진폭을 낮추게 하는 것입니다.\""
      ]
     },
     "execution_count": 8,
     "metadata": {},
     "output_type": "execute_result"
    }
   ],
   "source": [
    "question_answer(\"면진장치에 사용되는 주요 기술은 무엇인가요?\", gk_generation_config, generation_config)"
   ]
  },
  {
   "cell_type": "code",
   "execution_count": null,
   "id": "6a702cce-dac8-4fb4-beac-3dbe37a73163",
   "metadata": {},
   "outputs": [],
   "source": []
  }
 ],
 "metadata": {
  "kernelspec": {
   "display_name": "Python 3 (ipykernel)",
   "language": "python",
   "name": "python3"
  },
  "language_info": {
   "codemirror_mode": {
    "name": "ipython",
    "version": 3
   },
   "file_extension": ".py",
   "mimetype": "text/x-python",
   "name": "python",
   "nbconvert_exporter": "python",
   "pygments_lexer": "ipython3",
   "version": "3.10.13"
  }
 },
 "nbformat": 4,
 "nbformat_minor": 5
}
