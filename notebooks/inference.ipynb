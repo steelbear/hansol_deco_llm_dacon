{
 "cells": [
  {
   "cell_type": "code",
   "execution_count": null,
   "metadata": {},
   "outputs": [],
   "source": [
    "import torch\n",
    "from transformers import AutoModelForCausalLM, AutoTokenizer, GenerationConfig\n",
    "\n",
    "from string import Template"
   ]
  },
  {
   "cell_type": "code",
   "execution_count": null,
   "metadata": {},
   "outputs": [],
   "source": [
    "device = 'auto'\n",
    "LLM_model = './custom_LLM_final'\n",
    "\n",
    "# SOLAR prompt template\n",
    "prompt_template = Template(\n",
    "    \"\"\"### System:\n",
    "${system}\n",
    "\n",
    "### User:\n",
    "${user}\n",
    "\n",
    "### Assistant:\n",
    "\"\"\")\n",
    "\n",
    "generation_config = GenerationConfig(\n",
    "    max_new_tokens=512,\n",
    "    )"
   ]
  },
  {
   "cell_type": "code",
   "execution_count": null,
   "metadata": {},
   "outputs": [],
   "source": [
    "model = AutoModelForCausalLM.from_pretrained(\n",
    "    LLM_model,\n",
    "    load_in_8bit=True,\n",
    "    torch_dtype=torch.float16,\n",
    "    device_map=device)\n",
    "\n",
    "tokenizer = AutoTokenizer.from_pretrained(LLM_model)"
   ]
  },
  {
   "cell_type": "code",
   "execution_count": null,
   "metadata": {},
   "outputs": [],
   "source": [
    "user_inputs = [\n",
    "    \"면진장치에 사용되는 주요 기술은 무엇인가요?\",\n",
    "    \"내진설계의 종류 좀 알려줘\",\n",
    "    \"철골구조의 장점을 알려줘?\",\n",
    "    \"철골철근 콘크리트 구조의 장점과 단점에는 무엇이 있을까요?\",\n",
    "    \"철골구조의 다양한 방식이 무엇인가요?\",\n",
    "]"
   ]
  },
  {
   "cell_type": "code",
   "execution_count": null,
   "metadata": {},
   "outputs": [],
   "source": [
    "def test_prompt(system_input, user_inputs, generation_config):\n",
    "    prompts = (prompt_template.substitute(system=system_input, user=user_input) for user_input in user_inputs)\n",
    "    inputs = [tokenizer.encode(prompt, return_tensors=\"pt\").to('cuda') for prompt in prompts]\n",
    "    output_texts = []\n",
    "    \n",
    "    for user_input in inputs:\n",
    "        outputs = model.generate(\n",
    "            user_input,\n",
    "            generation_config=generation_config,\n",
    "        )\n",
    "        output_text = tokenizer.batch_decode(outputs)[0]\n",
    "        output_texts.append(output_text)\n",
    "\n",
    "    return output_texts"
   ]
  },
  {
   "cell_type": "code",
   "execution_count": null,
   "metadata": {},
   "outputs": [],
   "source": [
    "outputs = test_prompt(\n",
    "    system_input=\"당신은 도배 전문가 입니다. 전문가의 입장으로 User의 질문에 답하세요.\",\n",
    "    user_inputs=user_inputs,\n",
    "    generation_config=generation_config,\n",
    ")\n",
    "\n",
    "for output in outputs:\n",
    "    print(output, '\\n\\n')"
   ]
  }
 ],
 "metadata": {
  "language_info": {
   "name": "python"
  }
 },
 "nbformat": 4,
 "nbformat_minor": 2
}
